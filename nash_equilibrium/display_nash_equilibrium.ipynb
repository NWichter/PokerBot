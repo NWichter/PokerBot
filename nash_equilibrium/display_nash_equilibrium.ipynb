{
 "cells": [
  {
   "cell_type": "code",
   "execution_count": 3,
   "source": [
    "import pandas as pd"
   ],
   "outputs": [],
   "metadata": {}
  },
  {
   "cell_type": "code",
   "execution_count": 4,
   "source": [
    "df = pd.read_pickle(\"nash2cards.pkl\")"
   ],
   "outputs": [],
   "metadata": {}
  },
  {
   "cell_type": "code",
   "execution_count": 5,
   "source": [
    "df"
   ],
   "outputs": [
    {
     "output_type": "execute_result",
     "data": {
      "text/plain": [
       "                  call      fold     raise  counter\n",
       "['SK', 'SQ']  0.497040  0.458567  0.044393       36\n",
       "['SK', 'SJ']  0.532441  0.398701  0.068858       45\n",
       "['SK', 'ST']  0.650531  0.289606  0.059862       19\n",
       "['SK', 'S9']  0.587687  0.359029  0.053283       26\n",
       "['SK', 'S8']  0.551013  0.379680  0.069307       41\n",
       "...                ...       ...       ...      ...\n",
       "['C4', 'C2']  0.409054  0.562346  0.028600       32\n",
       "['C4', 'CA']  0.386816  0.580734  0.032450       39\n",
       "['C3', 'C2']  0.467119  0.496304  0.036577       29\n",
       "['C3', 'CA']  0.437641  0.535399  0.026960       36\n",
       "['C2', 'CA']  0.476936  0.505793  0.017272       34\n",
       "\n",
       "[1326 rows x 4 columns]"
      ],
      "text/html": [
       "<div>\n",
       "<style scoped>\n",
       "    .dataframe tbody tr th:only-of-type {\n",
       "        vertical-align: middle;\n",
       "    }\n",
       "\n",
       "    .dataframe tbody tr th {\n",
       "        vertical-align: top;\n",
       "    }\n",
       "\n",
       "    .dataframe thead th {\n",
       "        text-align: right;\n",
       "    }\n",
       "</style>\n",
       "<table border=\"1\" class=\"dataframe\">\n",
       "  <thead>\n",
       "    <tr style=\"text-align: right;\">\n",
       "      <th></th>\n",
       "      <th>call</th>\n",
       "      <th>fold</th>\n",
       "      <th>raise</th>\n",
       "      <th>counter</th>\n",
       "    </tr>\n",
       "  </thead>\n",
       "  <tbody>\n",
       "    <tr>\n",
       "      <th>['SK', 'SQ']</th>\n",
       "      <td>0.497040</td>\n",
       "      <td>0.458567</td>\n",
       "      <td>0.044393</td>\n",
       "      <td>36</td>\n",
       "    </tr>\n",
       "    <tr>\n",
       "      <th>['SK', 'SJ']</th>\n",
       "      <td>0.532441</td>\n",
       "      <td>0.398701</td>\n",
       "      <td>0.068858</td>\n",
       "      <td>45</td>\n",
       "    </tr>\n",
       "    <tr>\n",
       "      <th>['SK', 'ST']</th>\n",
       "      <td>0.650531</td>\n",
       "      <td>0.289606</td>\n",
       "      <td>0.059862</td>\n",
       "      <td>19</td>\n",
       "    </tr>\n",
       "    <tr>\n",
       "      <th>['SK', 'S9']</th>\n",
       "      <td>0.587687</td>\n",
       "      <td>0.359029</td>\n",
       "      <td>0.053283</td>\n",
       "      <td>26</td>\n",
       "    </tr>\n",
       "    <tr>\n",
       "      <th>['SK', 'S8']</th>\n",
       "      <td>0.551013</td>\n",
       "      <td>0.379680</td>\n",
       "      <td>0.069307</td>\n",
       "      <td>41</td>\n",
       "    </tr>\n",
       "    <tr>\n",
       "      <th>...</th>\n",
       "      <td>...</td>\n",
       "      <td>...</td>\n",
       "      <td>...</td>\n",
       "      <td>...</td>\n",
       "    </tr>\n",
       "    <tr>\n",
       "      <th>['C4', 'C2']</th>\n",
       "      <td>0.409054</td>\n",
       "      <td>0.562346</td>\n",
       "      <td>0.028600</td>\n",
       "      <td>32</td>\n",
       "    </tr>\n",
       "    <tr>\n",
       "      <th>['C4', 'CA']</th>\n",
       "      <td>0.386816</td>\n",
       "      <td>0.580734</td>\n",
       "      <td>0.032450</td>\n",
       "      <td>39</td>\n",
       "    </tr>\n",
       "    <tr>\n",
       "      <th>['C3', 'C2']</th>\n",
       "      <td>0.467119</td>\n",
       "      <td>0.496304</td>\n",
       "      <td>0.036577</td>\n",
       "      <td>29</td>\n",
       "    </tr>\n",
       "    <tr>\n",
       "      <th>['C3', 'CA']</th>\n",
       "      <td>0.437641</td>\n",
       "      <td>0.535399</td>\n",
       "      <td>0.026960</td>\n",
       "      <td>36</td>\n",
       "    </tr>\n",
       "    <tr>\n",
       "      <th>['C2', 'CA']</th>\n",
       "      <td>0.476936</td>\n",
       "      <td>0.505793</td>\n",
       "      <td>0.017272</td>\n",
       "      <td>34</td>\n",
       "    </tr>\n",
       "  </tbody>\n",
       "</table>\n",
       "<p>1326 rows × 4 columns</p>\n",
       "</div>"
      ]
     },
     "metadata": {},
     "execution_count": 5
    }
   ],
   "metadata": {}
  },
  {
   "cell_type": "code",
   "execution_count": 6,
   "source": [
    "summe = sum(df[\"counter\"])\r\n",
    "print(\"Anzahl gespielter Spiele\",summe)"
   ],
   "outputs": [
    {
     "output_type": "stream",
     "name": "stdout",
     "text": [
      "Anzahl gespielter Spiele 40042\n"
     ]
    }
   ],
   "metadata": {}
  },
  {
   "cell_type": "code",
   "execution_count": 7,
   "source": [
    "df.dtypes"
   ],
   "outputs": [
    {
     "output_type": "execute_result",
     "data": {
      "text/plain": [
       "call       float64\n",
       "fold       float64\n",
       "raise      float64\n",
       "counter      int64\n",
       "dtype: object"
      ]
     },
     "metadata": {},
     "execution_count": 7
    }
   ],
   "metadata": {}
  },
  {
   "cell_type": "code",
   "execution_count": null,
   "source": [],
   "outputs": [],
   "metadata": {}
  }
 ],
 "metadata": {
  "kernelspec": {
   "name": "python3",
   "display_name": "Python 3.9.5 64-bit"
  },
  "language_info": {
   "codemirror_mode": {
    "name": "ipython",
    "version": 3
   },
   "file_extension": ".py",
   "mimetype": "text/x-python",
   "name": "python",
   "nbconvert_exporter": "python",
   "pygments_lexer": "ipython3",
   "version": "3.9.5"
  },
  "interpreter": {
   "hash": "98b9830ad35c5e1e478e72d3dba1fdabe0ae743fb30b43ec349dcb945c2e8fc1"
  }
 },
 "nbformat": 4,
 "nbformat_minor": 4
}